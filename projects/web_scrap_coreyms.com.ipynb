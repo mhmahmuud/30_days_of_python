{
 "cells": [
  {
   "attachments": {},
   "cell_type": "markdown",
   "metadata": {},
   "source": [
    "## My first web scrapping project"
   ]
  },
  {
   "attachments": {},
   "cell_type": "markdown",
   "metadata": {},
   "source": [
    "### These lines of code were written to scrap some important data in the entire webpage.\n",
    "### It returns the heading, summary and link of each tutorial in the webpage"
   ]
  },
  {
   "cell_type": "code",
   "execution_count": 7,
   "metadata": {},
   "outputs": [],
   "source": [
    "from bs4 import BeautifulSoup\n",
    "import requests\n",
    "url=\"https://coreyms.com\"\n",
    "response=requests.get(url).text\n",
    "soup=BeautifulSoup(response, \"lxml\")\n",
    "\n",
    "with open (\"coreyms.txt\", \"a\")as f:\n",
    "    \n",
    "    for article in soup.find_all(\"article\"):\n",
    "        headline=article.h2\n",
    "        f.write(f\"Headline: {headline.text} \\n\")\n",
    "        summary=article.div.p\n",
    "        f.write (f\"summary: {summary.text} \\n\")\n",
    "        source=article.h2.a[\"href\"]\n",
    "        f.write(f\"link: {source} \\n\")\n",
    "        f.write(\"\\n\")\n",
    "        f.write(\"\\n\")\n",
    "        \n",
    "        \n",
    "\n",
    "\n",
    "\n"
   ]
  }
 ],
 "metadata": {
  "kernelspec": {
   "display_name": "myenv",
   "language": "python",
   "name": "python3"
  },
  "language_info": {
   "codemirror_mode": {
    "name": "ipython",
    "version": 3
   },
   "file_extension": ".py",
   "mimetype": "text/x-python",
   "name": "python",
   "nbconvert_exporter": "python",
   "pygments_lexer": "ipython3",
   "version": "3.10.9"
  },
  "orig_nbformat": 4
 },
 "nbformat": 4,
 "nbformat_minor": 2
}
