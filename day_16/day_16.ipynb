{
 "cells": [
  {
   "attachments": {},
   "cell_type": "markdown",
   "metadata": {},
   "source": [
    "# Day 16 Exercises"
   ]
  },
  {
   "attachments": {},
   "cell_type": "markdown",
   "metadata": {},
   "source": [
    "### Question 1"
   ]
  },
  {
   "cell_type": "code",
   "execution_count": 2,
   "metadata": {},
   "outputs": [],
   "source": [
    "from datetime import datetime\n",
    "now=datetime.now()\n",
    "day=now.day\n",
    "month=now.month\n",
    "year=now.year\n",
    "hour=now.hour\n",
    "minute=now.minute\n",
    "timestamp=now.timestamp()\n"
   ]
  },
  {
   "attachments": {},
   "cell_type": "markdown",
   "metadata": {},
   "source": [
    "### Question 2"
   ]
  },
  {
   "cell_type": "code",
   "execution_count": 19,
   "metadata": {},
   "outputs": [
    {
     "name": "stdout",
     "output_type": "stream",
     "text": [
      "02/15/2023, 15:39:37\n"
     ]
    }
   ],
   "source": [
    "current_date=now.strftime(\"%m/%d/%Y, %H:%M:%S\")\n",
    "print(current_date)"
   ]
  },
  {
   "attachments": {},
   "cell_type": "markdown",
   "metadata": {},
   "source": [
    "### Question 3"
   ]
  },
  {
   "cell_type": "code",
   "execution_count": 17,
   "metadata": {},
   "outputs": [
    {
     "name": "stdout",
     "output_type": "stream",
     "text": [
      "2019-12-05 00:00:00\n"
     ]
    }
   ],
   "source": [
    "today_date=\"5 December, 2019\"\n",
    "today_object=datetime.strptime(today_date, \"%d %B, %Y\")\n",
    "print(today_object)"
   ]
  },
  {
   "attachments": {},
   "cell_type": "markdown",
   "metadata": {},
   "source": [
    "### Question 4"
   ]
  },
  {
   "cell_type": "code",
   "execution_count": 6,
   "metadata": {},
   "outputs": [
    {
     "name": "stdout",
     "output_type": "stream",
     "text": [
      "Time left for new year 318 days, 4:23:52.963541\n"
     ]
    }
   ],
   "source": [
    "now=datetime.now()\n",
    "new_year=datetime(year=2024, month=1, day=1, hour=0, minute=0, second=0)\n",
    "diff=new_year-now\n",
    "print(\"Time left for new year\", diff )"
   ]
  },
  {
   "attachments": {},
   "cell_type": "markdown",
   "metadata": {},
   "source": [
    "### Question 5"
   ]
  },
  {
   "cell_type": "code",
   "execution_count": 8,
   "metadata": {},
   "outputs": [
    {
     "name": "stdout",
     "output_type": "stream",
     "text": [
      "The difference between the two dates is  19404 days, 19:36:07.036459\n"
     ]
    }
   ],
   "source": [
    "prev_date=datetime(year=1970, month=1, day=1, hour=0, minute=0, second=0)\n",
    "new_date=now-prev_date\n",
    "print(\"The difference between the two dates is \",new_date)"
   ]
  },
  {
   "attachments": {},
   "cell_type": "markdown",
   "metadata": {},
   "source": [
    "### Question 6"
   ]
  },
  {
   "cell_type": "code",
   "execution_count": null,
   "metadata": {},
   "outputs": [],
   "source": [
    "# Time series analysis\n",
    "# To get a timestamp of any activities in an application\n",
    "# # Adding posts on a blog"
   ]
  }
 ],
 "metadata": {
  "kernelspec": {
   "display_name": "myenv",
   "language": "python",
   "name": "python3"
  },
  "language_info": {
   "codemirror_mode": {
    "name": "ipython",
    "version": 3
   },
   "file_extension": ".py",
   "mimetype": "text/x-python",
   "name": "python",
   "nbconvert_exporter": "python",
   "pygments_lexer": "ipython3",
   "version": "3.10.9 | packaged by conda-forge | (main, Jan 11 2023, 15:15:40) [MSC v.1916 64 bit (AMD64)]"
  },
  "orig_nbformat": 4,
  "vscode": {
   "interpreter": {
    "hash": "06bf26644798dd9a6d5157ca6336922149b163280f38218c93042cc9a2476084"
   }
  }
 },
 "nbformat": 4,
 "nbformat_minor": 2
}
