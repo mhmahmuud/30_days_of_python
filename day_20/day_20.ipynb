{
 "cells": [
  {
   "attachments": {},
   "cell_type": "markdown",
   "metadata": {},
   "source": [
    "# Day 20 exercises"
   ]
  },
  {
   "attachments": {},
   "cell_type": "markdown",
   "metadata": {},
   "source": [
    "### Question 1"
   ]
  },
  {
   "cell_type": "code",
   "execution_count": 6,
   "metadata": {},
   "outputs": [
    {
     "name": "stdout",
     "output_type": "stream",
     "text": [
      "The 10 most frequent words are: \n",
      "[('the', 766), ('I', 583), ('and', 555), ('to', 533), ('of', 487), ('a', 460), ('in', 341), ('is', 334), ('you', 318), ('my', 310)]\n"
     ]
    }
   ],
   "source": [
    "import requests\n",
    "import re\n",
    "url='http://www.gutenberg.org/files/1112/1112.txt'\n",
    "\n",
    "response=requests.get(url)\n",
    "if response.status_code==200:\n",
    "    data=response.text\n",
    "else:\n",
    "    print(\"cant open folder\")\n",
    "\n",
    "text = re.sub(r'[^\\w\\s]','',data)\n",
    "words=text.split()\n",
    "\n",
    "dict_count={}\n",
    "\n",
    "for word in words:\n",
    "    if word not in dict_count:\n",
    "        dict_count[word]=1\n",
    "    else:\n",
    "        dict_count[word]+=1\n",
    "\n",
    "sorted_dict_count=sorted(dict_count.items(), key=lambda x:x[1], reverse=True)\n",
    "print(\"The 10 most frequent words are: \")\n",
    "print(sorted_dict_count[:10])\n",
    "\n",
    "    \n"
   ]
  }
 ],
 "metadata": {
  "kernelspec": {
   "display_name": "myenv",
   "language": "python",
   "name": "python3"
  },
  "language_info": {
   "codemirror_mode": {
    "name": "ipython",
    "version": 3
   },
   "file_extension": ".py",
   "mimetype": "text/x-python",
   "name": "python",
   "nbconvert_exporter": "python",
   "pygments_lexer": "ipython3",
   "version": "3.10.9"
  },
  "orig_nbformat": 4,
  "vscode": {
   "interpreter": {
    "hash": "06bf26644798dd9a6d5157ca6336922149b163280f38218c93042cc9a2476084"
   }
  }
 },
 "nbformat": 4,
 "nbformat_minor": 2
}
