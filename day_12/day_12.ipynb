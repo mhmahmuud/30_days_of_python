{
 "cells": [
  {
   "attachments": {},
   "cell_type": "markdown",
   "metadata": {},
   "source": [
    "# Day 12 exercises"
   ]
  },
  {
   "attachments": {},
   "cell_type": "markdown",
   "metadata": {},
   "source": [
    "## Level 1"
   ]
  },
  {
   "attachments": {},
   "cell_type": "markdown",
   "metadata": {},
   "source": [
    "### Question 1"
   ]
  },
  {
   "cell_type": "code",
   "execution_count": 76,
   "metadata": {},
   "outputs": [
    {
     "name": "stdout",
     "output_type": "stream",
     "text": [
      "5k5v5g\n"
     ]
    }
   ],
   "source": [
    "import string\n",
    "import random\n",
    "\n",
    "def rand_user_id():\n",
    "    \n",
    "    # list to hold the digits per element\n",
    "    dgt=[i for i in string.digits]\n",
    "    \n",
    "    # list to hold the characters per element\n",
    "    letters=[ i for i in string.ascii_lowercase]\n",
    "    \n",
    "    # var to old 3 digits\n",
    "    rand_user_dgt=\"\"\n",
    "    \n",
    "    # var to hold 3 characters\n",
    "    rand_user_char=\"\"\n",
    "    \n",
    "    # var to hold the random user id\n",
    "    rand_user_id=\"\"\n",
    "\n",
    "    for i in range(3):\n",
    "        rand_user_dgt=\"\".join(random.choice(dgt)) \n",
    "        rand_user_char=\"\".join(random.choice(letters))\n",
    "        rand_user_id+=rand_user_dgt + rand_user_char\n",
    "    return rand_user_id\n",
    "print(rand_user_id())"
   ]
  },
  {
   "attachments": {},
   "cell_type": "markdown",
   "metadata": {},
   "source": [
    "### Question 2"
   ]
  },
  {
   "cell_type": "code",
   "execution_count": 96,
   "metadata": {},
   "outputs": [
    {
     "name": "stdout",
     "output_type": "stream",
     "text": [
      "6d66df667dfi6676dfif66761dfifb\n",
      "6v64vk642vkk6425vkkg64257vkkgy\n",
      "8o86ot862otd8627otdw86276otdwm\n",
      "7e78ev784evd7847evdl78470evdlr\n",
      "5c58cw580cwl5806cwln58061cwlnz\n"
     ]
    }
   ],
   "source": [
    "lenght=(int(input(\"Enter the length please: \")))\n",
    "times=int(input(\"Enter the number of times please: \"))\n",
    "\n",
    "\n",
    "def rand_user_id():\n",
    "    \n",
    "    # list to hold the digits per element\n",
    "    dgt=[i for i in string.digits]\n",
    "    \n",
    "    # list to hold the characters per element\n",
    "    letters=[ i for i in string.ascii_lowercase]\n",
    "    \n",
    "    # var to old 3 digits\n",
    "    rand_user_dgt=\"\"\n",
    "    \n",
    "    # var to hold 3 characters\n",
    "    rand_user_char=\"\"\n",
    "    \n",
    "    # var to hold the random user id\n",
    "    rand_user_id=\"\"\n",
    "    for i in range(int(lenght/3)):\n",
    "        rand_user_dgt+=\"\".join(random.choice(dgt))\n",
    "        rand_user_char+=\"\".join(random.choice(letters))\n",
    "        rand_user_id+=rand_user_dgt + rand_user_char\n",
    "    return rand_user_id\n",
    "\n",
    "for i in range(times):\n",
    "    print(rand_user_id())"
   ]
  },
  {
   "attachments": {},
   "cell_type": "markdown",
   "metadata": {},
   "source": [
    "### Question 3"
   ]
  },
  {
   "cell_type": "code",
   "execution_count": 175,
   "metadata": {},
   "outputs": [
    {
     "name": "stdout",
     "output_type": "stream",
     "text": [
      "None\n"
     ]
    }
   ],
   "source": [
    "import random\n",
    "def rgb_color():\n",
    "    length=random.randrange(0,255)\n",
    "    rgb=set()\n",
    "    new_rgb=[]\n",
    "    for i in range(3):\n",
    "        new_rgb=rgb.add(length)\n",
    "    print(new_rgb)\n",
    "rgb_color()\n",
    "\n"
   ]
  },
  {
   "attachments": {},
   "cell_type": "markdown",
   "metadata": {},
   "source": [
    "## Level 2"
   ]
  },
  {
   "attachments": {},
   "cell_type": "markdown",
   "metadata": {},
   "source": [
    "### Question 1"
   ]
  },
  {
   "cell_type": "code",
   "execution_count": null,
   "metadata": {},
   "outputs": [],
   "source": []
  }
 ],
 "metadata": {
  "kernelspec": {
   "display_name": "myenv",
   "language": "python",
   "name": "python3"
  },
  "language_info": {
   "codemirror_mode": {
    "name": "ipython",
    "version": 3
   },
   "file_extension": ".py",
   "mimetype": "text/x-python",
   "name": "python",
   "nbconvert_exporter": "python",
   "pygments_lexer": "ipython3",
   "version": "3.10.9 | packaged by conda-forge | (main, Jan 11 2023, 15:15:40) [MSC v.1916 64 bit (AMD64)]"
  },
  "orig_nbformat": 4,
  "vscode": {
   "interpreter": {
    "hash": "06bf26644798dd9a6d5157ca6336922149b163280f38218c93042cc9a2476084"
   }
  }
 },
 "nbformat": 4,
 "nbformat_minor": 2
}
