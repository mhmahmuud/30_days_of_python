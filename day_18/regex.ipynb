{
 "cells": [
  {
   "attachments": {},
   "cell_type": "markdown",
   "metadata": {},
   "source": [
    "# Day 18 exercises"
   ]
  },
  {
   "attachments": {},
   "cell_type": "markdown",
   "metadata": {},
   "source": [
    "## Level 1"
   ]
  },
  {
   "attachments": {},
   "cell_type": "markdown",
   "metadata": {},
   "source": [
    "### Question 1"
   ]
  },
  {
   "cell_type": "code",
   "execution_count": 50,
   "metadata": {},
   "outputs": [
    {
     "name": "stdout",
     "output_type": "stream",
     "text": [
      "(6, 'love')\n"
     ]
    }
   ],
   "source": [
    "import re\n",
    "\n",
    "paragraph = 'I love teaching. If you do not love teaching what else can you love. I love Python if you do not love something which can give you all the capabilities to develop an application what else can you love'\n",
    "text=re.findall(r\"\\w+\", paragraph, re.I)\n",
    "word_count=[]\n",
    "for word in text:\n",
    "    \n",
    "    word_count.append((text.count(word),word))\n",
    "\n",
    "word_count=set(word_count) # converting to set to remove duplicate\n",
    "\n",
    "word_count=sorted(word_count) # sorting the tuple and return it to a list\n",
    "\n",
    "\n",
    "print(word_count[-1])#printing the last element which is the most frequent\n",
    "\n"
   ]
  },
  {
   "attachments": {},
   "cell_type": "markdown",
   "metadata": {},
   "source": [
    "## Level 2"
   ]
  },
  {
   "cell_type": "code",
   "execution_count": null,
   "metadata": {},
   "outputs": [],
   "source": [
    "# pattern which identifies if a string is a valid python variable name\n",
    "pattern=r\"[a-z_]+\""
   ]
  },
  {
   "attachments": {},
   "cell_type": "markdown",
   "metadata": {},
   "source": [
    "## Level 3"
   ]
  },
  {
   "cell_type": "code",
   "execution_count": 52,
   "metadata": {},
   "outputs": [
    {
     "name": "stdout",
     "output_type": "stream",
     "text": [
      "I am a teacher, and I love teaching. There is nothing as more rewarding as educating and empowering people. I found teaching more interesting than any other jobs. Does this motivate you to be a teacher!?\n",
      "[(3, 'I'), (2, 'teaching'), (2, 'teacher')]\n"
     ]
    }
   ],
   "source": [
    "sentence = '''%I $am@% a %tea@cher%, &and& I lo%#ve %tea@ching%;. There $is nothing; &as& mo@re rewarding as educa@ting &and& @emp%o@wering peo@ple. ;I found tea@ching m%o@re interesting tha@n any other %jo@bs. %Do@es thi%s mo@tivate yo@u to be a tea@cher!?'''\n",
    "clean_text=re.sub(r\"\\$|%|@|&|#|;\", \"\", sentence)\n",
    "print(clean_text)\n",
    "\n",
    "\n",
    "text=re.findall(r\"\\w+\", clean_text, re.I)\n",
    "word_count=[]\n",
    "for word in text:\n",
    "    word_count.append((text.count(word),word))\n",
    "    \n",
    "word_count=set(word_count)  # converting to set to remove duplicate\n",
    "\n",
    "word_count=sorted(word_count) # sorting the tuple and return it to a list\n",
    "\n",
    "print(word_count[:-4:-1]) #printing the 3 most frequent\n"
   ]
  }
 ],
 "metadata": {
  "kernelspec": {
   "display_name": "myenv",
   "language": "python",
   "name": "python3"
  },
  "language_info": {
   "codemirror_mode": {
    "name": "ipython",
    "version": 3
   },
   "file_extension": ".py",
   "mimetype": "text/x-python",
   "name": "python",
   "nbconvert_exporter": "python",
   "pygments_lexer": "ipython3",
   "version": "3.10.9"
  },
  "orig_nbformat": 4
 },
 "nbformat": 4,
 "nbformat_minor": 2
}
