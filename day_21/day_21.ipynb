{
 "cells": [
  {
   "attachments": {},
   "cell_type": "markdown",
   "metadata": {},
   "source": [
    "# Day 21 Exercises"
   ]
  },
  {
   "attachments": {},
   "cell_type": "markdown",
   "metadata": {},
   "source": [
    "## Level 1"
   ]
  },
  {
   "cell_type": "code",
   "execution_count": 24,
   "metadata": {},
   "outputs": [
    {
     "name": "stdout",
     "output_type": "stream",
     "text": [
      "Count:  5\n",
      "sum:  28\n",
      "min:  2\n",
      "max:  8\n",
      "range:  6\n",
      "mean:  5.6\n",
      "median:  6\n",
      "mode:  2\n",
      "standard deviation:  2.3021728866442674\n",
      "var:  5.3\n"
     ]
    }
   ],
   "source": [
    "import statistics as st\n",
    "\n",
    "class Statistics:\n",
    "    def __init__(self,data):\n",
    "        self.data=data\n",
    "\n",
    "    def count(self):\n",
    "        return len(self.data)\n",
    "    \n",
    "    def sum(self):\n",
    "        sum=0\n",
    "        for i in self.data:\n",
    "            sum+=i\n",
    "        return sum\n",
    "    \n",
    "    def min(self):\n",
    "        return min(self.data)\n",
    "    \n",
    "    def max(self):\n",
    "        return max(self.data)\n",
    "    \n",
    "    def range(self):\n",
    "        return max(self.data) - min(self.data)\n",
    "    \n",
    "    def mean(self):\n",
    "        return st.mean(self.data)\n",
    "    \n",
    "    def median(self):\n",
    "        return st.median(self.data)\n",
    "    \n",
    "    def mode(self):\n",
    "        return st.mode(self.data)\n",
    "    \n",
    "    def std(self):\n",
    "        return st.stdev(self.data)\n",
    "    \n",
    "    def var(self):\n",
    "        return st.variance(self.data)\n",
    "    \n",
    "    def freq_dist(self):\n",
    "        return st.freq_dist(self.data)\n",
    "    \n",
    "    def describe(self):\n",
    "        print(\"Count: \", self.count())\n",
    "        print(\"sum: \", self.sum())\n",
    "        print(\"min: \", self.min())\n",
    "        print(\"max: \", self.max())\n",
    "        print(\"range: \", self.range())\n",
    "        print(\"mean: \", self.mean())\n",
    "        print(\"median: \", self.median())\n",
    "        print(\"mode: \", self.mode())\n",
    "        print(\"standard deviation: \", self.std())\n",
    "        print(\"var: \", self.var())\n",
    "\n",
    "age=[2,5,6,7,8]\n",
    "\n",
    "data=Statistics(age)\n",
    "data.describe()\n",
    "\n",
    "\n",
    "\n",
    "\n",
    "\n",
    "\n",
    "    \n"
   ]
  },
  {
   "attachments": {},
   "cell_type": "markdown",
   "metadata": {},
   "source": [
    "## Level 2"
   ]
  },
  {
   "cell_type": "code",
   "execution_count": 33,
   "metadata": {},
   "outputs": [
    {
     "name": "stdout",
     "output_type": "stream",
     "text": [
      "Firstname:  mahmud\n",
      "Lastname:  hamzah\n",
      "incomes:  [(9000, 'coding'), (5000, 'school'), (7000, 'tutorial')]\n",
      "Expenses:  [(4000, 'food'), (5000, 'data'), (3000, 'tutorial')]\n",
      "Total income:  21000\n",
      "Total expense:  12000\n",
      "Account balance:  9000\n"
     ]
    }
   ],
   "source": [
    "class PersonAccount:\n",
    "    def __init__(self, firstname,lastname):\n",
    "        self.firstname=firstname\n",
    "        self.lastname=lastname\n",
    "        self.incomes=[]\n",
    "        self.expenses=[]\n",
    "      \n",
    "\n",
    "    def add_income(self,amount_description):\n",
    "        self.incomes.append((amount_description[0],amount_description[1]))\n",
    "\n",
    "    def add_expense(self,amount_description):\n",
    "        self.expenses.append((amount_description[0],amount_description[1]))\n",
    "\n",
    "    def total_income(self):\n",
    "        total=0 # var to hold total income\n",
    "        for income in self.incomes:\n",
    "            total+=income[0]\n",
    "        return total\n",
    "\n",
    "    def total_expense(self):\n",
    "        total=0\n",
    "        for expense in self.expenses:\n",
    "            total+=expense[0]\n",
    "        return total\n",
    "\n",
    "    def account_balance(self):\n",
    "        return self.total_income() - self.total_expense()\n",
    "\n",
    "    \n",
    "    def account_info(self):\n",
    "        print(\"Firstname: \", self.firstname)\n",
    "        print(\"Lastname: \", self.lastname)\n",
    "        print(\"incomes: \", self.incomes)\n",
    "        print(\"Expenses: \", self.expenses)\n",
    "        print(\"Total income: \", self.total_income())\n",
    "        print(\"Total expense: \", self.total_expense())\n",
    "        print(\"Account balance: \", self.account_balance())\n",
    "\n",
    "    \n",
    "\n",
    "   \n",
    "person=PersonAccount(\"mahmud\", \"hamzah\")\n",
    "income_one=(9000,\"coding\")\n",
    "income_two=(5000,\"school\")\n",
    "income_three=(7000, \"tutorial\")\n",
    "\n",
    "expense_one=(4000,\"food\")\n",
    "expense_two=(5000,\"data\")\n",
    "expense_three=(3000, \"tutorial\")\n",
    "\n",
    "person.add_income(income_one)\n",
    "person.add_income(income_two)\n",
    "person.add_income(income_three)\n",
    "person.add_expense(expense_one)\n",
    "person.add_expense(expense_two)\n",
    "person.add_expense(expense_three)\n",
    "\n",
    "person.account_info()\n",
    "\n"
   ]
  }
 ],
 "metadata": {
  "kernelspec": {
   "display_name": "myenv",
   "language": "python",
   "name": "python3"
  },
  "language_info": {
   "codemirror_mode": {
    "name": "ipython",
    "version": 3
   },
   "file_extension": ".py",
   "mimetype": "text/x-python",
   "name": "python",
   "nbconvert_exporter": "python",
   "pygments_lexer": "ipython3",
   "version": "3.10.9"
  },
  "orig_nbformat": 4
 },
 "nbformat": 4,
 "nbformat_minor": 2
}
