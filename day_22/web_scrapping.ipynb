{
 "cells": [
  {
   "attachments": {},
   "cell_type": "markdown",
   "metadata": {},
   "source": [
    "# Day 22 Exercises"
   ]
  },
  {
   "cell_type": "code",
   "execution_count": null,
   "metadata": {},
   "outputs": [],
   "source": []
  },
  {
   "cell_type": "code",
   "execution_count": 45,
   "metadata": {},
   "outputs": [],
   "source": [
    "from bs4 import BeautifulSoup\n",
    "import requests\n",
    "import json\n",
    "\n",
    "url=\"http://www.bu.edu/president/boston-university-facts-stats/\"\n",
    "response=requests.get(url).text\n",
    "\n",
    "soup=BeautifulSoup(response, \"lxml\")\n",
    "with open(\"project_one.json\", \"w\")as f:\n",
    "    \n",
    "    for div in soup.find_all(\"div\", class_=\"facts-wrapper\"):\n",
    "        heading=div.h5\n",
    "        f.write(json.dumps(heading.text))\n",
    "        key=div.li.p\n",
    "        data=div.li.span.string\n",
    "        summary=f\"{key.text} : There are number of {data.text} {key.text}\"\n",
    "        f.write(json.dumps(summary))\n",
    "        \n",
    "        \n",
    "    \n",
    "    \n",
    "    \n",
    "\n"
   ]
  }
 ],
 "metadata": {
  "kernelspec": {
   "display_name": "myenv",
   "language": "python",
   "name": "python3"
  },
  "language_info": {
   "codemirror_mode": {
    "name": "ipython",
    "version": 3
   },
   "file_extension": ".py",
   "mimetype": "text/x-python",
   "name": "python",
   "nbconvert_exporter": "python",
   "pygments_lexer": "ipython3",
   "version": "3.10.9"
  },
  "orig_nbformat": 4
 },
 "nbformat": 4,
 "nbformat_minor": 2
}
