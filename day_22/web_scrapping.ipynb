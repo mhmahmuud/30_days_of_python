{
 "cells": [
  {
   "attachments": {},
   "cell_type": "markdown",
   "metadata": {},
   "source": [
    "# Day 22 Exercises"
   ]
  },
  {
   "attachments": {},
   "cell_type": "markdown",
   "metadata": {},
   "source": [
    "### The code below scrap the heading and paragraphs in the heading and article tag"
   ]
  },
  {
   "cell_type": "code",
   "execution_count": null,
   "metadata": {},
   "outputs": [],
   "source": [
    "\n",
    "from bs4 import BeautifulSoup\n",
    "import requests\n",
    "import json\n",
    "\n",
    "url=\"http://www.bu.edu/president/boston-university-facts-stats/\"\n",
    "response=requests.get(url).text\n",
    "\n",
    "soup=BeautifulSoup(response, \"lxml\")  \n",
    "header=soup.find(\"header\", class_=\"masthead\")\n",
    "name=header.find_all(\"span\")\n",
    "print(name[0].text, name[1].text)\n",
    "info=soup.find(\"div\", class_=\"textarea\")\n",
    "info_head=info.h1.text\n",
    "info_text=info.p.text\n",
    "print(info_head)\n",
    "print(info_text)\n",
    "\n",
    "article=soup.find(\"article\", id=\"post-23\").text\n",
    "print(article)\n",
    "       \n",
    "        \n",
    "        \n",
    "    \n",
    "    \n",
    "    \n",
    "\n"
   ]
  },
  {
   "attachments": {},
   "cell_type": "markdown",
   "metadata": {},
   "source": [
    "### The code below scraps the meta information as displays it as in the site"
   ]
  },
  {
   "cell_type": "code",
   "execution_count": null,
   "metadata": {},
   "outputs": [],
   "source": [
    "from bs4 import BeautifulSoup\n",
    "import requests\n",
    "import json\n",
    "\n",
    "url=\"http://www.bu.edu/president/boston-university-facts-stats/\"\n",
    "response=requests.get(url).text\n",
    "\n",
    "soup=BeautifulSoup(response, \"lxml\")  \n",
    "for item in soup.find_all(\"div\", class_=\"facts-wrapper\"):\n",
    "    print(item.h5.text)\n",
    "    list_items=item.find_all(\"li\")\n",
    "    for element in list_items:\n",
    "        print(f\"{element.p.text} {element.span.string}\")\n",
    "        print()\n",
    "    \n"
   ]
  },
  {
   "attachments": {},
   "cell_type": "markdown",
   "metadata": {},
   "source": [
    "### Question 1"
   ]
  },
  {
   "cell_type": "code",
   "execution_count": 42,
   "metadata": {},
   "outputs": [],
   "source": [
    "\n",
    "from bs4 import BeautifulSoup\n",
    "import requests\n",
    "import json\n",
    "\n",
    "url=\"http://www.bu.edu/president/boston-university-facts-stats/\"\n",
    "response=requests.get(url).text\n",
    "\n",
    "\n",
    "soup=BeautifulSoup(response, \"lxml\")  \n",
    "text=soup.body.get_text()\n",
    "with open(\"question1.json\", \"w\") as f:\n",
    "    json.dump(text,f)\n",
    "    \n"
   ]
  },
  {
   "attachments": {},
   "cell_type": "markdown",
   "metadata": {},
   "source": [
    "## Question 2"
   ]
  },
  {
   "cell_type": "code",
   "execution_count": 40,
   "metadata": {},
   "outputs": [],
   "source": [
    "from bs4 import BeautifulSoup\n",
    "import requests\n",
    "import json\n",
    "\n",
    "url=\"https://archive.ics.uci.edu/ml/datasets.php\"\n",
    "response=requests.get(url).text\n",
    "soup=BeautifulSoup(response, \"lxml\")\n",
    "table=soup.find(\"table\", attrs={\"border\":1, \"cellpadding\":5})\n",
    "\n",
    "# convert it to json\n",
    "table_json=json.dumps(table.get_text())\n",
    "with open(\"question2.json\", \"w\")as f:\n",
    "    f.write(table_json)\n",
    "    \n",
    "\n"
   ]
  },
  {
   "cell_type": "code",
   "execution_count": 56,
   "metadata": {},
   "outputs": [],
   "source": [
    "from bs4 import BeautifulSoup\n",
    "import requests\n",
    "import json\n",
    "\n",
    "url=\"https://en.wikipedia.org/wiki/List_of_presidents_of_the_United_States\" \n",
    "response=requests.get(url).text\n",
    "soup=BeautifulSoup(response, \"lxml\")\n",
    "table=soup.find(\"table\")\n",
    "json_table=json.dumps(table.get_text())\n",
    "with open(\"question3.json\", \"w\") as f:\n",
    "    f.write(json_table)"
   ]
  }
 ],
 "metadata": {
  "kernelspec": {
   "display_name": "myenv",
   "language": "python",
   "name": "python3"
  },
  "language_info": {
   "codemirror_mode": {
    "name": "ipython",
    "version": 3
   },
   "file_extension": ".py",
   "mimetype": "text/x-python",
   "name": "python",
   "nbconvert_exporter": "python",
   "pygments_lexer": "ipython3",
   "version": "3.10.9"
  },
  "orig_nbformat": 4
 },
 "nbformat": 4,
 "nbformat_minor": 2
}
