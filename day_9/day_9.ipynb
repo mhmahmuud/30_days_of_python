{
 "cells": [
  {
   "attachments": {},
   "cell_type": "markdown",
   "metadata": {},
   "source": [
    "# Day 9 Exercises"
   ]
  },
  {
   "attachments": {},
   "cell_type": "markdown",
   "metadata": {},
   "source": [
    "## Exercises Level 1"
   ]
  },
  {
   "attachments": {},
   "cell_type": "markdown",
   "metadata": {},
   "source": [
    "### Question 1"
   ]
  },
  {
   "cell_type": "code",
   "execution_count": 1,
   "metadata": {},
   "outputs": [
    {
     "name": "stdout",
     "output_type": "stream",
     "text": [
      "you need 6 more years to learn to drive\n"
     ]
    }
   ],
   "source": [
    "age=int(input(\"Enter your age: \"))\n",
    "if age>=18:\n",
    "    print(\"You are old enough to learn to drive\")\n",
    "    \n",
    "else:\n",
    "    print(f\"you need {18-age} more years to learn to drive\")"
   ]
  },
  {
   "attachments": {},
   "cell_type": "markdown",
   "metadata": {},
   "source": [
    "### Question 2"
   ]
  },
  {
   "cell_type": "code",
   "execution_count": 11,
   "metadata": {},
   "outputs": [
    {
     "name": "stdout",
     "output_type": "stream",
     "text": [
      "you are 7 years older than me\n"
     ]
    }
   ],
   "source": [
    "your_age=int(input(\"Enter your age please: \"))\n",
    "my_age=23\n",
    "\n",
    "if my_age==your_age:\n",
    "    print(\"Mates\")\n",
    "elif your_age>my_age:\n",
    "    if (your_age-my_age)>1:\n",
    "        print(f\"you are {your_age-my_age} years older than me\")\n",
    "    else:\n",
    "        print(\"You are a year older than me\")\n",
    "    "
   ]
  },
  {
   "attachments": {},
   "cell_type": "markdown",
   "metadata": {},
   "source": [
    "### Question 3"
   ]
  },
  {
   "cell_type": "code",
   "execution_count": 12,
   "metadata": {},
   "outputs": [
    {
     "name": "stdout",
     "output_type": "stream",
     "text": [
      "4 is greater than 3\n"
     ]
    }
   ],
   "source": [
    "first_num=int(input(\"Enter first number please: \"))\n",
    "sec_num=int(input(\"Enter second number please: \"))\n",
    "if first_num> sec_num:\n",
    "    print(f\"{first_num} is greater than {sec_num}\")\n",
    "elif sec_num>first_num:\n",
    "    print(f\"{sec_num} is greater than {first_num}\")\n",
    "else:\n",
    "    print(f\"{first_num} is equal to {sec_num}\")"
   ]
  },
  {
   "attachments": {},
   "cell_type": "markdown",
   "metadata": {},
   "source": [
    "## Exercise Level 2"
   ]
  },
  {
   "attachments": {},
   "cell_type": "markdown",
   "metadata": {},
   "source": [
    "### Question 1"
   ]
  },
  {
   "cell_type": "code",
   "execution_count": 31,
   "metadata": {},
   "outputs": [
    {
     "name": "stdout",
     "output_type": "stream",
     "text": [
      "grade is A\n"
     ]
    }
   ],
   "source": [
    "grade=80\n",
    "\n",
    "if grade>=80:\n",
    "    print(\"grade is A\")\n",
    "elif grade>=70:\n",
    "    print(\"grade is B\")\n",
    "elif grade>=60:\n",
    "    print(\"Grade is C\")\n",
    "elif grade >=50:\n",
    "    print(\"Grade is D\")\n",
    "elif grade <=49:\n",
    "    print(\"Grade is F\")\n",
    "\n",
    "\n",
    "\n"
   ]
  },
  {
   "attachments": {},
   "cell_type": "markdown",
   "metadata": {},
   "source": [
    "### Question 2"
   ]
  },
  {
   "cell_type": "code",
   "execution_count": 32,
   "metadata": {},
   "outputs": [
    {
     "name": "stdout",
     "output_type": "stream",
     "text": [
      "Spring\n"
     ]
    }
   ],
   "source": [
    "Autumn=[\"september\", \"october\", \"november\"]\n",
    "Winter=[\"december\", \"january\", \"february\"]\n",
    "Spring=[\"march\", \"april\",\"may\"]\n",
    "summer=[\"june\", \"july\", \"august\"]\n",
    "user_input=input(\"Enter month: \")\n",
    "season=\"\"\n",
    "\n",
    "if user_input in Autumn:\n",
    "    season=\"Autumn\"\n",
    "    \n",
    "elif user_input in Winter:\n",
    "    season=\"Winter\"\n",
    "    \n",
    "elif user_input in Spring:\n",
    "    season=\"Spring\"\n",
    "elif user_input in summer:\n",
    "    season=\"summer\"\n",
    "    \n",
    "print(season)"
   ]
  },
  {
   "attachments": {},
   "cell_type": "markdown",
   "metadata": {},
   "source": [
    "### Question 3"
   ]
  },
  {
   "cell_type": "code",
   "execution_count": 34,
   "metadata": {},
   "outputs": [
    {
     "name": "stdout",
     "output_type": "stream",
     "text": [
      "That fruit already exists\n"
     ]
    }
   ],
   "source": [
    "fruits=[\"banana\", \"orange\", \"mango\", \"lemon\"]\n",
    "fruit=\"mango\"\n",
    "\n",
    "if fruit in fruits:\n",
    "    print(\"That fruit already exists\")\n",
    "else:\n",
    "    fruits.append(fruit)\n",
    "    print(fruits)"
   ]
  },
  {
   "attachments": {},
   "cell_type": "markdown",
   "metadata": {},
   "source": [
    "### Question 4"
   ]
  },
  {
   "cell_type": "code",
   "execution_count": 59,
   "metadata": {},
   "outputs": [
    {
     "name": "stdout",
     "output_type": "stream",
     "text": [
      "Node\n",
      "MongoDB\n",
      "Node\n"
     ]
    }
   ],
   "source": [
    "person={\n",
    "    'first_name': 'Mahmud',\n",
    "    'last_name': 'Hamzah',\n",
    "    'age': 23,\n",
    "    'country': 'Nigeria',\n",
    "    'is_marred': True,\n",
    "    'skills': ['JavaScript', 'React', 'Node', 'MongoDB', 'Python'],\n",
    "    'address': {\n",
    "        'street': 'Space street',\n",
    "        'zipcode': '02210'\n",
    "    }\n",
    "    }\n",
    "\n",
    "if \"skills\" in person:\n",
    "    print(person[\"skills\"][int(len(person[\"skills\"])/2)])\n",
    "    print(person.get(\"skills\")[int(len(\"skills\")/2)])\n",
    "    print(person.get(\"skills\")[2])\n",
    "    "
   ]
  },
  {
   "cell_type": "code",
   "execution_count": 69,
   "metadata": {},
   "outputs": [
    {
     "name": "stdout",
     "output_type": "stream",
     "text": [
      "Python\n"
     ]
    }
   ],
   "source": [
    "if \"skills\" in person:\n",
    "    if \"Python\" in person[\"skills\"]:\n",
    "        print(person.get(\"skills\")[-1])"
   ]
  },
  {
   "cell_type": "code",
   "execution_count": 81,
   "metadata": {},
   "outputs": [
    {
     "name": "stdout",
     "output_type": "stream",
     "text": [
      "Full stack developer\n"
     ]
    }
   ],
   "source": [
    "front_end={\"JavaScript\", \"React\"}\n",
    "back_end={\"Node\", \"Python\", \"MongoDB\"}\n",
    "fullstack={\"React\", \"Node\", \"MongoDB\"}\n",
    "\n",
    "if \"React\" in person[\"skills\"] and \"Node\" in person[\"skills\"] and \"MongoDB\" in person[\"skills\"]:\n",
    "    print(\"Full stack developer\")\n",
    "elif \"Node\" in person[\"skills\"] and \"Python\" in person[\"skills\"] and \"MongoDB\" in person[\"skills\"]:\n",
    "    print(\"back_end developer\")\n",
    "elif  \"JavaScript\" in person[\"skills\"] and \"React\" in person[\"skills\"]:\n",
    "    print(\"back end developer\")\n"
   ]
  },
  {
   "cell_type": "code",
   "execution_count": 62,
   "metadata": {},
   "outputs": [
    {
     "name": "stdout",
     "output_type": "stream",
     "text": [
      "MahmudHamzahlives in Nigeria\n"
     ]
    }
   ],
   "source": [
    "if person[\"is_marred\"] is True:\n",
    "    if person[\"country\"]==\"Nigeria\":\n",
    "        print(person[\"first_name\"] + person[\"last_name\"] + \"lives in \" + person[\"country\"])"
   ]
  }
 ],
 "metadata": {
  "kernelspec": {
   "display_name": "myenv",
   "language": "python",
   "name": "python3"
  },
  "language_info": {
   "codemirror_mode": {
    "name": "ipython",
    "version": 3
   },
   "file_extension": ".py",
   "mimetype": "text/x-python",
   "name": "python",
   "nbconvert_exporter": "python",
   "pygments_lexer": "ipython3",
   "version": "3.10.9"
  },
  "orig_nbformat": 4,
  "vscode": {
   "interpreter": {
    "hash": "06bf26644798dd9a6d5157ca6336922149b163280f38218c93042cc9a2476084"
   }
  }
 },
 "nbformat": 4,
 "nbformat_minor": 2
}
